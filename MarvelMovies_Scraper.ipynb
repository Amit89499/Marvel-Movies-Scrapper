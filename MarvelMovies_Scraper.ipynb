{
 "cells": [
  {
   "cell_type": "markdown",
   "metadata": {},
   "source": [
    "Find all the Marvel Cinematic Universe movies from wikipedia using Scrapping, and fetch the IMDb rating for each movie and store it to a text file. In the file, there should be data for each movie like this, (movie_name, rating)."
   ]
  },
  {
   "cell_type": "code",
   "execution_count": 12,
   "metadata": {},
   "outputs": [],
   "source": [
    "import bs4"
   ]
  },
  {
   "cell_type": "code",
   "execution_count": 13,
   "metadata": {},
   "outputs": [],
   "source": [
    "import requests as rq\n",
    "import pandas as pd\n",
    "import numpy as np"
   ]
  },
  {
   "cell_type": "code",
   "execution_count": 14,
   "metadata": {},
   "outputs": [],
   "source": [
    "from pandas import DataFrame\n",
    "import matplotlib.pyplot as plt\n",
    "from PIL import Image"
   ]
  },
  {
   "cell_type": "code",
   "execution_count": 15,
   "metadata": {},
   "outputs": [],
   "source": [
    "r=rq.get(\"https://www.imdb.com/list/ls021778931/\")"
   ]
  },
  {
   "cell_type": "code",
   "execution_count": 16,
   "metadata": {},
   "outputs": [
    {
     "data": {
      "text/plain": [
       "200"
      ]
     },
     "execution_count": 16,
     "metadata": {},
     "output_type": "execute_result"
    }
   ],
   "source": [
    "r.status_code"
   ]
  },
  {
   "cell_type": "code",
   "execution_count": 17,
   "metadata": {},
   "outputs": [],
   "source": [
    "soup=bs4.BeautifulSoup(r.text,\"html.parser\")"
   ]
  },
  {
   "cell_type": "code",
   "execution_count": 19,
   "metadata": {},
   "outputs": [
    {
     "data": {
      "text/plain": [
       "'Marvel Movies Ranked. - IMDb'"
      ]
     },
     "execution_count": 19,
     "metadata": {},
     "output_type": "execute_result"
    }
   ],
   "source": [
    "soup.title.text"
   ]
  },
  {
   "cell_type": "code",
   "execution_count": 23,
   "metadata": {},
   "outputs": [],
   "source": [
    "movie=[]\n",
    "rating=[]\n",
    "arr=[]\n",
    "app=[]\n",
    "for i in soup.findAll('div',{'class':'lister-item-content'}):\n",
    "    for j in i.findAll('h3',{'class','lister-item-header'}):\n",
    "        a=j.get_text(strip=True)\n",
    "        b=a.split('(')[0]\n",
    "        movie.append(b)\n",
    "    for k in i.findAll('span',{'class':'ipl-rating-star__rating'}):\n",
    "        d=k.get_text(strip=True)\n",
    "        rating.append(d)\n",
    "        \n",
    "for pl, sc in zip(movie,rating): \n",
    "    q=\"%s \" %(pl)\n",
    "    r=\"%s\"%(sc)\n",
    "   # print(q)\n",
    "    app.append([q,r])\n",
    "df = DataFrame(app)\n",
    "df.to_csv(\"C:\\\\Users\\\\amit gupta\\\\OneDrive\\\\Desktop\\\\Python\\\\webscraping\\\\marvel.csv\", index = None, header=False)"
   ]
  },
  {
   "cell_type": "code",
   "execution_count": null,
   "metadata": {},
   "outputs": [],
   "source": []
  }
 ],
 "metadata": {
  "kernelspec": {
   "display_name": "Python 3",
   "language": "python",
   "name": "python3"
  },
  "language_info": {
   "codemirror_mode": {
    "name": "ipython",
    "version": 3
   },
   "file_extension": ".py",
   "mimetype": "text/x-python",
   "name": "python",
   "nbconvert_exporter": "python",
   "pygments_lexer": "ipython3",
   "version": "3.7.3"
  }
 },
 "nbformat": 4,
 "nbformat_minor": 2
}
